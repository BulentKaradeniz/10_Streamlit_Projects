{
  "nbformat": 4,
  "nbformat_minor": 0,
  "metadata": {
    "colab": {
      "provenance": []
    },
    "kernelspec": {
      "name": "python3",
      "display_name": "Python 3"
    },
    "language_info": {
      "name": "python"
    }
  },
  "cells": [
    {
      "cell_type": "code",
      "execution_count": 8,
      "metadata": {
        "id": "e2HLVblXER89"
      },
      "outputs": [],
      "source": [
        "import pandas as pd\n",
        "import matplotlib.pyplot as plt\n",
        "import numpy as np\n",
        "import seaborn as sns\n",
        "from sklearn.model_selection import train_test_split\n",
        "from sklearn.metrics import accuracy_score, classification_report\n",
        "pd.set_option('display.max_rows', None)\n",
        "from datetime import datetime\n",
        "\n",
        "sns.set(style=\"whitegrid\")\n",
        "\n",
        "pd.set_option('display.max_columns', None)\n",
        "pd.set_option('display.max_rows', None)\n",
        "pd.set_option('display.float_format', lambda x: '%.3f' % x)\n",
        "pd.set_option('display.width', 500)"
      ]
    },
    {
      "cell_type": "code",
      "source": [
        "#!pip install gdown"
      ],
      "metadata": {
        "id": "HDuln9BSESk_"
      },
      "execution_count": 9,
      "outputs": []
    },
    {
      "cell_type": "code",
      "source": [
        "import gdown\n",
        "\n",
        "file_id = '1RCyHNbDuAAc3yyBPCamRt8_CmT1GRXuV'\n",
        "\n",
        "url = f'https://drive.google.com/uc?id={file_id}'\n",
        "\n",
        "output_file = r'C:\\Users\\evliy\\OneDrive\\Desktop\\Internship\\All_Users.csv'\n",
        "\n",
        "gdown.download(url, output_file, quiet=False)\n",
        "\n",
        "df = pd.read_csv(output_file)"
      ],
      "metadata": {
        "colab": {
          "base_uri": "https://localhost:8080/"
        },
        "id": "y9rB2JW6ESn1",
        "outputId": "a30b0e7c-45ef-46c6-fd51-9360cf8ca885"
      },
      "execution_count": 10,
      "outputs": [
        {
          "output_type": "stream",
          "name": "stderr",
          "text": [
            "Downloading...\n",
            "From: https://drive.google.com/uc?id=1RCyHNbDuAAc3yyBPCamRt8_CmT1GRXuV\n",
            "To: /content/C:\\Users\\evliy\\OneDrive\\Desktop\\Internship\\All_Users.csv\n",
            "100%|██████████| 539k/539k [00:00<00:00, 20.7MB/s]\n"
          ]
        }
      ]
    },
    {
      "cell_type": "code",
      "source": [
        "## Converting the datatype\n",
        "df['Register Date'] = pd.to_datetime(df['Register Date'])\n",
        "df['Suspended Date'] = pd.to_datetime(df['Suspended Date'])"
      ],
      "metadata": {
        "id": "O-cHfJ4JESsQ"
      },
      "execution_count": 11,
      "outputs": []
    },
    {
      "cell_type": "code",
      "source": [
        "df.head()"
      ],
      "metadata": {
        "colab": {
          "base_uri": "https://localhost:8080/",
          "height": 224
        },
        "id": "3JGiqvfeFiNz",
        "outputId": "54b1e26f-56f0-4962-df32-8b7edbafb959"
      },
      "execution_count": 12,
      "outputs": [
        {
          "output_type": "execute_result",
          "data": {
            "text/plain": [
              "  Register Date Suspended Date Seller ID Registration Source  Total Account Count  Total Product Count  Total Income  Total Profit     Status Cancellation Reason  Active Days\n",
              "0    2019-07-13     2020-09-16  Seller 1                 NaN                    1                    0             0             0  Suspended                 NaN          431\n",
              "1    2019-07-16     2019-10-08  Seller 2                 NaN                    1                    0             0             0  Suspended                 NaN           84\n",
              "2    2019-07-23     2019-10-31  Seller 3                 NaN                    1                    0             0             0  Suspended                 NaN          100\n",
              "3    2019-07-28     2019-08-27  Seller 4                 NaN                    1                    0             0             0  Suspended                 NaN           30\n",
              "4    2019-08-18     2020-01-07  Seller 5                 NaN                    1                    0             0             0  Suspended                 NaN          142"
            ],
            "text/html": [
              "\n",
              "  <div id=\"df-5f232cf9-6bf6-4761-9dc4-0fba5f044877\" class=\"colab-df-container\">\n",
              "    <div>\n",
              "<style scoped>\n",
              "    .dataframe tbody tr th:only-of-type {\n",
              "        vertical-align: middle;\n",
              "    }\n",
              "\n",
              "    .dataframe tbody tr th {\n",
              "        vertical-align: top;\n",
              "    }\n",
              "\n",
              "    .dataframe thead th {\n",
              "        text-align: right;\n",
              "    }\n",
              "</style>\n",
              "<table border=\"1\" class=\"dataframe\">\n",
              "  <thead>\n",
              "    <tr style=\"text-align: right;\">\n",
              "      <th></th>\n",
              "      <th>Register Date</th>\n",
              "      <th>Suspended Date</th>\n",
              "      <th>Seller ID</th>\n",
              "      <th>Registration Source</th>\n",
              "      <th>Total Account Count</th>\n",
              "      <th>Total Product Count</th>\n",
              "      <th>Total Income</th>\n",
              "      <th>Total Profit</th>\n",
              "      <th>Status</th>\n",
              "      <th>Cancellation Reason</th>\n",
              "      <th>Active Days</th>\n",
              "    </tr>\n",
              "  </thead>\n",
              "  <tbody>\n",
              "    <tr>\n",
              "      <th>0</th>\n",
              "      <td>2019-07-13</td>\n",
              "      <td>2020-09-16</td>\n",
              "      <td>Seller 1</td>\n",
              "      <td>NaN</td>\n",
              "      <td>1</td>\n",
              "      <td>0</td>\n",
              "      <td>0</td>\n",
              "      <td>0</td>\n",
              "      <td>Suspended</td>\n",
              "      <td>NaN</td>\n",
              "      <td>431</td>\n",
              "    </tr>\n",
              "    <tr>\n",
              "      <th>1</th>\n",
              "      <td>2019-07-16</td>\n",
              "      <td>2019-10-08</td>\n",
              "      <td>Seller 2</td>\n",
              "      <td>NaN</td>\n",
              "      <td>1</td>\n",
              "      <td>0</td>\n",
              "      <td>0</td>\n",
              "      <td>0</td>\n",
              "      <td>Suspended</td>\n",
              "      <td>NaN</td>\n",
              "      <td>84</td>\n",
              "    </tr>\n",
              "    <tr>\n",
              "      <th>2</th>\n",
              "      <td>2019-07-23</td>\n",
              "      <td>2019-10-31</td>\n",
              "      <td>Seller 3</td>\n",
              "      <td>NaN</td>\n",
              "      <td>1</td>\n",
              "      <td>0</td>\n",
              "      <td>0</td>\n",
              "      <td>0</td>\n",
              "      <td>Suspended</td>\n",
              "      <td>NaN</td>\n",
              "      <td>100</td>\n",
              "    </tr>\n",
              "    <tr>\n",
              "      <th>3</th>\n",
              "      <td>2019-07-28</td>\n",
              "      <td>2019-08-27</td>\n",
              "      <td>Seller 4</td>\n",
              "      <td>NaN</td>\n",
              "      <td>1</td>\n",
              "      <td>0</td>\n",
              "      <td>0</td>\n",
              "      <td>0</td>\n",
              "      <td>Suspended</td>\n",
              "      <td>NaN</td>\n",
              "      <td>30</td>\n",
              "    </tr>\n",
              "    <tr>\n",
              "      <th>4</th>\n",
              "      <td>2019-08-18</td>\n",
              "      <td>2020-01-07</td>\n",
              "      <td>Seller 5</td>\n",
              "      <td>NaN</td>\n",
              "      <td>1</td>\n",
              "      <td>0</td>\n",
              "      <td>0</td>\n",
              "      <td>0</td>\n",
              "      <td>Suspended</td>\n",
              "      <td>NaN</td>\n",
              "      <td>142</td>\n",
              "    </tr>\n",
              "  </tbody>\n",
              "</table>\n",
              "</div>\n",
              "    <div class=\"colab-df-buttons\">\n",
              "\n",
              "  <div class=\"colab-df-container\">\n",
              "    <button class=\"colab-df-convert\" onclick=\"convertToInteractive('df-5f232cf9-6bf6-4761-9dc4-0fba5f044877')\"\n",
              "            title=\"Convert this dataframe to an interactive table.\"\n",
              "            style=\"display:none;\">\n",
              "\n",
              "  <svg xmlns=\"http://www.w3.org/2000/svg\" height=\"24px\" viewBox=\"0 -960 960 960\">\n",
              "    <path d=\"M120-120v-720h720v720H120Zm60-500h600v-160H180v160Zm220 220h160v-160H400v160Zm0 220h160v-160H400v160ZM180-400h160v-160H180v160Zm440 0h160v-160H620v160ZM180-180h160v-160H180v160Zm440 0h160v-160H620v160Z\"/>\n",
              "  </svg>\n",
              "    </button>\n",
              "\n",
              "  <style>\n",
              "    .colab-df-container {\n",
              "      display:flex;\n",
              "      gap: 12px;\n",
              "    }\n",
              "\n",
              "    .colab-df-convert {\n",
              "      background-color: #E8F0FE;\n",
              "      border: none;\n",
              "      border-radius: 50%;\n",
              "      cursor: pointer;\n",
              "      display: none;\n",
              "      fill: #1967D2;\n",
              "      height: 32px;\n",
              "      padding: 0 0 0 0;\n",
              "      width: 32px;\n",
              "    }\n",
              "\n",
              "    .colab-df-convert:hover {\n",
              "      background-color: #E2EBFA;\n",
              "      box-shadow: 0px 1px 2px rgba(60, 64, 67, 0.3), 0px 1px 3px 1px rgba(60, 64, 67, 0.15);\n",
              "      fill: #174EA6;\n",
              "    }\n",
              "\n",
              "    .colab-df-buttons div {\n",
              "      margin-bottom: 4px;\n",
              "    }\n",
              "\n",
              "    [theme=dark] .colab-df-convert {\n",
              "      background-color: #3B4455;\n",
              "      fill: #D2E3FC;\n",
              "    }\n",
              "\n",
              "    [theme=dark] .colab-df-convert:hover {\n",
              "      background-color: #434B5C;\n",
              "      box-shadow: 0px 1px 3px 1px rgba(0, 0, 0, 0.15);\n",
              "      filter: drop-shadow(0px 1px 2px rgba(0, 0, 0, 0.3));\n",
              "      fill: #FFFFFF;\n",
              "    }\n",
              "  </style>\n",
              "\n",
              "    <script>\n",
              "      const buttonEl =\n",
              "        document.querySelector('#df-5f232cf9-6bf6-4761-9dc4-0fba5f044877 button.colab-df-convert');\n",
              "      buttonEl.style.display =\n",
              "        google.colab.kernel.accessAllowed ? 'block' : 'none';\n",
              "\n",
              "      async function convertToInteractive(key) {\n",
              "        const element = document.querySelector('#df-5f232cf9-6bf6-4761-9dc4-0fba5f044877');\n",
              "        const dataTable =\n",
              "          await google.colab.kernel.invokeFunction('convertToInteractive',\n",
              "                                                    [key], {});\n",
              "        if (!dataTable) return;\n",
              "\n",
              "        const docLinkHtml = 'Like what you see? Visit the ' +\n",
              "          '<a target=\"_blank\" href=https://colab.research.google.com/notebooks/data_table.ipynb>data table notebook</a>'\n",
              "          + ' to learn more about interactive tables.';\n",
              "        element.innerHTML = '';\n",
              "        dataTable['output_type'] = 'display_data';\n",
              "        await google.colab.output.renderOutput(dataTable, element);\n",
              "        const docLink = document.createElement('div');\n",
              "        docLink.innerHTML = docLinkHtml;\n",
              "        element.appendChild(docLink);\n",
              "      }\n",
              "    </script>\n",
              "  </div>\n",
              "\n",
              "\n",
              "<div id=\"df-59a52f2f-424d-443f-bac1-5199f332bd14\">\n",
              "  <button class=\"colab-df-quickchart\" onclick=\"quickchart('df-59a52f2f-424d-443f-bac1-5199f332bd14')\"\n",
              "            title=\"Suggest charts.\"\n",
              "            style=\"display:none;\">\n",
              "\n",
              "<svg xmlns=\"http://www.w3.org/2000/svg\" height=\"24px\"viewBox=\"0 0 24 24\"\n",
              "     width=\"24px\">\n",
              "    <g>\n",
              "        <path d=\"M19 3H5c-1.1 0-2 .9-2 2v14c0 1.1.9 2 2 2h14c1.1 0 2-.9 2-2V5c0-1.1-.9-2-2-2zM9 17H7v-7h2v7zm4 0h-2V7h2v10zm4 0h-2v-4h2v4z\"/>\n",
              "    </g>\n",
              "</svg>\n",
              "  </button>\n",
              "\n",
              "<style>\n",
              "  .colab-df-quickchart {\n",
              "      --bg-color: #E8F0FE;\n",
              "      --fill-color: #1967D2;\n",
              "      --hover-bg-color: #E2EBFA;\n",
              "      --hover-fill-color: #174EA6;\n",
              "      --disabled-fill-color: #AAA;\n",
              "      --disabled-bg-color: #DDD;\n",
              "  }\n",
              "\n",
              "  [theme=dark] .colab-df-quickchart {\n",
              "      --bg-color: #3B4455;\n",
              "      --fill-color: #D2E3FC;\n",
              "      --hover-bg-color: #434B5C;\n",
              "      --hover-fill-color: #FFFFFF;\n",
              "      --disabled-bg-color: #3B4455;\n",
              "      --disabled-fill-color: #666;\n",
              "  }\n",
              "\n",
              "  .colab-df-quickchart {\n",
              "    background-color: var(--bg-color);\n",
              "    border: none;\n",
              "    border-radius: 50%;\n",
              "    cursor: pointer;\n",
              "    display: none;\n",
              "    fill: var(--fill-color);\n",
              "    height: 32px;\n",
              "    padding: 0;\n",
              "    width: 32px;\n",
              "  }\n",
              "\n",
              "  .colab-df-quickchart:hover {\n",
              "    background-color: var(--hover-bg-color);\n",
              "    box-shadow: 0 1px 2px rgba(60, 64, 67, 0.3), 0 1px 3px 1px rgba(60, 64, 67, 0.15);\n",
              "    fill: var(--button-hover-fill-color);\n",
              "  }\n",
              "\n",
              "  .colab-df-quickchart-complete:disabled,\n",
              "  .colab-df-quickchart-complete:disabled:hover {\n",
              "    background-color: var(--disabled-bg-color);\n",
              "    fill: var(--disabled-fill-color);\n",
              "    box-shadow: none;\n",
              "  }\n",
              "\n",
              "  .colab-df-spinner {\n",
              "    border: 2px solid var(--fill-color);\n",
              "    border-color: transparent;\n",
              "    border-bottom-color: var(--fill-color);\n",
              "    animation:\n",
              "      spin 1s steps(1) infinite;\n",
              "  }\n",
              "\n",
              "  @keyframes spin {\n",
              "    0% {\n",
              "      border-color: transparent;\n",
              "      border-bottom-color: var(--fill-color);\n",
              "      border-left-color: var(--fill-color);\n",
              "    }\n",
              "    20% {\n",
              "      border-color: transparent;\n",
              "      border-left-color: var(--fill-color);\n",
              "      border-top-color: var(--fill-color);\n",
              "    }\n",
              "    30% {\n",
              "      border-color: transparent;\n",
              "      border-left-color: var(--fill-color);\n",
              "      border-top-color: var(--fill-color);\n",
              "      border-right-color: var(--fill-color);\n",
              "    }\n",
              "    40% {\n",
              "      border-color: transparent;\n",
              "      border-right-color: var(--fill-color);\n",
              "      border-top-color: var(--fill-color);\n",
              "    }\n",
              "    60% {\n",
              "      border-color: transparent;\n",
              "      border-right-color: var(--fill-color);\n",
              "    }\n",
              "    80% {\n",
              "      border-color: transparent;\n",
              "      border-right-color: var(--fill-color);\n",
              "      border-bottom-color: var(--fill-color);\n",
              "    }\n",
              "    90% {\n",
              "      border-color: transparent;\n",
              "      border-bottom-color: var(--fill-color);\n",
              "    }\n",
              "  }\n",
              "</style>\n",
              "\n",
              "  <script>\n",
              "    async function quickchart(key) {\n",
              "      const quickchartButtonEl =\n",
              "        document.querySelector('#' + key + ' button');\n",
              "      quickchartButtonEl.disabled = true;  // To prevent multiple clicks.\n",
              "      quickchartButtonEl.classList.add('colab-df-spinner');\n",
              "      try {\n",
              "        const charts = await google.colab.kernel.invokeFunction(\n",
              "            'suggestCharts', [key], {});\n",
              "      } catch (error) {\n",
              "        console.error('Error during call to suggestCharts:', error);\n",
              "      }\n",
              "      quickchartButtonEl.classList.remove('colab-df-spinner');\n",
              "      quickchartButtonEl.classList.add('colab-df-quickchart-complete');\n",
              "    }\n",
              "    (() => {\n",
              "      let quickchartButtonEl =\n",
              "        document.querySelector('#df-59a52f2f-424d-443f-bac1-5199f332bd14 button');\n",
              "      quickchartButtonEl.style.display =\n",
              "        google.colab.kernel.accessAllowed ? 'block' : 'none';\n",
              "    })();\n",
              "  </script>\n",
              "</div>\n",
              "    </div>\n",
              "  </div>\n"
            ]
          },
          "metadata": {},
          "execution_count": 12
        }
      ]
    },
    {
      "cell_type": "code",
      "source": [
        "from datetime import datetime\n",
        "\n",
        "current_date = datetime(2023, 8, 20)\n",
        "\n",
        "df['Churned'] = df['Suspended Date'].notnull()\n"
      ],
      "metadata": {
        "id": "sQQu8ZQuFiRq"
      },
      "execution_count": 13,
      "outputs": []
    },
    {
      "cell_type": "code",
      "source": [
        "df.head(1)"
      ],
      "metadata": {
        "colab": {
          "base_uri": "https://localhost:8080/",
          "height": 98
        },
        "id": "NZg-4F9sESwL",
        "outputId": "a70ff45d-7d8f-484e-bd44-23f162faf353"
      },
      "execution_count": 14,
      "outputs": [
        {
          "output_type": "execute_result",
          "data": {
            "text/plain": [
              "  Register Date Suspended Date Seller ID Registration Source  Total Account Count  Total Product Count  Total Income  Total Profit     Status Cancellation Reason  Active Days  Churned\n",
              "0    2019-07-13     2020-09-16  Seller 1                 NaN                    1                    0             0             0  Suspended                 NaN          431     True"
            ],
            "text/html": [
              "\n",
              "  <div id=\"df-50e6a4f3-f1d9-4699-b6e4-c2b3d3363ca7\" class=\"colab-df-container\">\n",
              "    <div>\n",
              "<style scoped>\n",
              "    .dataframe tbody tr th:only-of-type {\n",
              "        vertical-align: middle;\n",
              "    }\n",
              "\n",
              "    .dataframe tbody tr th {\n",
              "        vertical-align: top;\n",
              "    }\n",
              "\n",
              "    .dataframe thead th {\n",
              "        text-align: right;\n",
              "    }\n",
              "</style>\n",
              "<table border=\"1\" class=\"dataframe\">\n",
              "  <thead>\n",
              "    <tr style=\"text-align: right;\">\n",
              "      <th></th>\n",
              "      <th>Register Date</th>\n",
              "      <th>Suspended Date</th>\n",
              "      <th>Seller ID</th>\n",
              "      <th>Registration Source</th>\n",
              "      <th>Total Account Count</th>\n",
              "      <th>Total Product Count</th>\n",
              "      <th>Total Income</th>\n",
              "      <th>Total Profit</th>\n",
              "      <th>Status</th>\n",
              "      <th>Cancellation Reason</th>\n",
              "      <th>Active Days</th>\n",
              "      <th>Churned</th>\n",
              "    </tr>\n",
              "  </thead>\n",
              "  <tbody>\n",
              "    <tr>\n",
              "      <th>0</th>\n",
              "      <td>2019-07-13</td>\n",
              "      <td>2020-09-16</td>\n",
              "      <td>Seller 1</td>\n",
              "      <td>NaN</td>\n",
              "      <td>1</td>\n",
              "      <td>0</td>\n",
              "      <td>0</td>\n",
              "      <td>0</td>\n",
              "      <td>Suspended</td>\n",
              "      <td>NaN</td>\n",
              "      <td>431</td>\n",
              "      <td>True</td>\n",
              "    </tr>\n",
              "  </tbody>\n",
              "</table>\n",
              "</div>\n",
              "    <div class=\"colab-df-buttons\">\n",
              "\n",
              "  <div class=\"colab-df-container\">\n",
              "    <button class=\"colab-df-convert\" onclick=\"convertToInteractive('df-50e6a4f3-f1d9-4699-b6e4-c2b3d3363ca7')\"\n",
              "            title=\"Convert this dataframe to an interactive table.\"\n",
              "            style=\"display:none;\">\n",
              "\n",
              "  <svg xmlns=\"http://www.w3.org/2000/svg\" height=\"24px\" viewBox=\"0 -960 960 960\">\n",
              "    <path d=\"M120-120v-720h720v720H120Zm60-500h600v-160H180v160Zm220 220h160v-160H400v160Zm0 220h160v-160H400v160ZM180-400h160v-160H180v160Zm440 0h160v-160H620v160ZM180-180h160v-160H180v160Zm440 0h160v-160H620v160Z\"/>\n",
              "  </svg>\n",
              "    </button>\n",
              "\n",
              "  <style>\n",
              "    .colab-df-container {\n",
              "      display:flex;\n",
              "      gap: 12px;\n",
              "    }\n",
              "\n",
              "    .colab-df-convert {\n",
              "      background-color: #E8F0FE;\n",
              "      border: none;\n",
              "      border-radius: 50%;\n",
              "      cursor: pointer;\n",
              "      display: none;\n",
              "      fill: #1967D2;\n",
              "      height: 32px;\n",
              "      padding: 0 0 0 0;\n",
              "      width: 32px;\n",
              "    }\n",
              "\n",
              "    .colab-df-convert:hover {\n",
              "      background-color: #E2EBFA;\n",
              "      box-shadow: 0px 1px 2px rgba(60, 64, 67, 0.3), 0px 1px 3px 1px rgba(60, 64, 67, 0.15);\n",
              "      fill: #174EA6;\n",
              "    }\n",
              "\n",
              "    .colab-df-buttons div {\n",
              "      margin-bottom: 4px;\n",
              "    }\n",
              "\n",
              "    [theme=dark] .colab-df-convert {\n",
              "      background-color: #3B4455;\n",
              "      fill: #D2E3FC;\n",
              "    }\n",
              "\n",
              "    [theme=dark] .colab-df-convert:hover {\n",
              "      background-color: #434B5C;\n",
              "      box-shadow: 0px 1px 3px 1px rgba(0, 0, 0, 0.15);\n",
              "      filter: drop-shadow(0px 1px 2px rgba(0, 0, 0, 0.3));\n",
              "      fill: #FFFFFF;\n",
              "    }\n",
              "  </style>\n",
              "\n",
              "    <script>\n",
              "      const buttonEl =\n",
              "        document.querySelector('#df-50e6a4f3-f1d9-4699-b6e4-c2b3d3363ca7 button.colab-df-convert');\n",
              "      buttonEl.style.display =\n",
              "        google.colab.kernel.accessAllowed ? 'block' : 'none';\n",
              "\n",
              "      async function convertToInteractive(key) {\n",
              "        const element = document.querySelector('#df-50e6a4f3-f1d9-4699-b6e4-c2b3d3363ca7');\n",
              "        const dataTable =\n",
              "          await google.colab.kernel.invokeFunction('convertToInteractive',\n",
              "                                                    [key], {});\n",
              "        if (!dataTable) return;\n",
              "\n",
              "        const docLinkHtml = 'Like what you see? Visit the ' +\n",
              "          '<a target=\"_blank\" href=https://colab.research.google.com/notebooks/data_table.ipynb>data table notebook</a>'\n",
              "          + ' to learn more about interactive tables.';\n",
              "        element.innerHTML = '';\n",
              "        dataTable['output_type'] = 'display_data';\n",
              "        await google.colab.output.renderOutput(dataTable, element);\n",
              "        const docLink = document.createElement('div');\n",
              "        docLink.innerHTML = docLinkHtml;\n",
              "        element.appendChild(docLink);\n",
              "      }\n",
              "    </script>\n",
              "  </div>\n",
              "\n",
              "    </div>\n",
              "  </div>\n"
            ]
          },
          "metadata": {},
          "execution_count": 14
        }
      ]
    },
    {
      "cell_type": "code",
      "source": [],
      "metadata": {
        "id": "M4CpQ3m1ZIaQ"
      },
      "execution_count": 14,
      "outputs": []
    },
    {
      "cell_type": "code",
      "source": [
        "df_3 = df.drop([\"Seller ID\", \"Register Date\", \"Suspended Date\", \"Registration Source\", \"Status\", \"Cancellation Reason\"], axis=1);"
      ],
      "metadata": {
        "id": "3sVycU1bGTMT"
      },
      "execution_count": 15,
      "outputs": []
    },
    {
      "cell_type": "code",
      "source": [
        "data1 = df_3[df_3['Churned']==1]\n",
        "print(\"Churn olanlar-data1:\"+ str(data1.shape))\n",
        "data2 = df_3[df_3['Churned']==0]\n",
        "\n",
        "print(\"Churn olmayanlar-data2:\"+ str(data2.shape))"
      ],
      "metadata": {
        "colab": {
          "base_uri": "https://localhost:8080/"
        },
        "id": "0VJI6hSsHEJ8",
        "outputId": "7da02f21-4ee6-4a20-cca0-94c1356c83e0"
      },
      "execution_count": 16,
      "outputs": [
        {
          "output_type": "stream",
          "name": "stdout",
          "text": [
            "Churn olanlar-data1:(5939, 6)\n",
            "Churn olmayanlar-data2:(2370, 6)\n"
          ]
        }
      ]
    },
    {
      "cell_type": "code",
      "source": [
        "# Set the random seed for reproducibility\n",
        "np.random.seed(42)\n",
        "\n",
        "# Shuffle the rows of data1 and data2\n",
        "data1_shuffled = data1.sample(frac=1, random_state=42)\n",
        "data2_shuffled = data2.sample(frac=1, random_state=42)\n",
        "\n",
        "# Choose rows from data1 where Total Income or Total Profit > 1\n",
        "condition = (data1_shuffled['Total Income'] > 1) | (data1_shuffled['Total Profit'] > 1)\n",
        "selected_data1 = data1_shuffled[condition]\n",
        "\n",
        "# Randomly select 2370 samples from the selected_data1\n",
        "random_indices = np.random.choice(selected_data1.index, size=2370, replace=False)\n",
        "random_data1 = selected_data1.loc[random_indices]\n",
        "\n",
        "# Combine randomly shuffled data1 with shuffled data2\n",
        "shuffled_data = pd.concat([data2_shuffled, random_data1])\n",
        "\n",
        "# Shuffle the rows of the final dataset\n",
        "final_data = shuffled_data.sample(frac=1, random_state=42)\n",
        "\n",
        "print(\"Final Dataset Shape:\", final_data.shape)"
      ],
      "metadata": {
        "colab": {
          "base_uri": "https://localhost:8080/"
        },
        "id": "o66A9pslHEM5",
        "outputId": "039b9a5e-7392-4955-a4d4-a428660ab6e8"
      },
      "execution_count": 17,
      "outputs": [
        {
          "output_type": "stream",
          "name": "stdout",
          "text": [
            "Final Dataset Shape: (4740, 6)\n"
          ]
        }
      ]
    },
    {
      "cell_type": "code",
      "source": [
        "corr_matrix = final_data.corr()\n",
        "plt.figure(figsize=(10, 8))\n",
        "sns.heatmap(corr_matrix, annot=True, cmap=\"coolwarm\", linewidths=.5);\n",
        "plt.show()"
      ],
      "metadata": {
        "colab": {
          "base_uri": "https://localhost:8080/",
          "height": 824
        },
        "id": "YsJa6RjPGTPb",
        "outputId": "919650a6-833f-4d05-f9a5-3267fa105628"
      },
      "execution_count": 18,
      "outputs": [
        {
          "output_type": "display_data",
          "data": {
            "text/plain": [
              "<Figure size 1000x800 with 2 Axes>"
            ],
            "image/png": "[encoded data removed]"
          },
          "metadata": {}
        }
      ]
    },
    {
      "cell_type": "code",
      "source": [
        "X = final_data.drop(columns=['Churned'], axis = 1)\n",
        "y = final_data['Churned']"
      ],
      "metadata": {
        "id": "goUqpaesI4pq"
      },
      "execution_count": 19,
      "outputs": []
    },
    {
      "cell_type": "code",
      "source": [
        "X_train, X_test, y_train, y_test = train_test_split(X, y, test_size=0.2, random_state=42)"
      ],
      "metadata": {
        "id": "K-IzK-sZI_jj"
      },
      "execution_count": 20,
      "outputs": []
    },
    {
      "cell_type": "code",
      "source": [
        "## Gradient Boosting"
      ],
      "metadata": {
        "id": "1LRRab_FI_m6"
      },
      "execution_count": 21,
      "outputs": []
    },
    {
      "cell_type": "code",
      "source": [
        "from sklearn.model_selection import train_test_split\n",
        "from sklearn.metrics import confusion_matrix, classification_report, ConfusionMatrixDisplay\n",
        "from yellowbrick.classifier import ClassPredictionError\n",
        "from sklearn.model_selection import cross_val_score, cross_validate\n",
        "from sklearn.metrics import precision_recall_curve, PrecisionRecallDisplay, RocCurveDisplay, roc_auc_score\n",
        "from sklearn.ensemble import GradientBoostingClassifier\n",
        "model = GradientBoostingClassifier(n_estimators = 100, learning_rate = 0.1, max_depth = 5,\n",
        "                                   min_samples_leaf = 7, min_samples_split = 2, random_state=42)\n",
        "model.fit(X_train, y_train)\n",
        "model.feature_importances_\n",
        "feats = pd.DataFrame(index=X.columns, data=model.feature_importances_, columns=['grad_importance'])\n",
        "#grad_imp_feats = feats.sort_values(\"grad_importance\")"
      ],
      "metadata": {
        "id": "-yMYF7lWI4s8"
      },
      "execution_count": 22,
      "outputs": []
    },
    {
      "cell_type": "code",
      "source": [
        "def eval_metric(model, X_train, y_train, X_test, y_test):\n",
        "    y_train_pred = model.predict(X_train)\n",
        "    y_pred = model.predict(X_test)\n",
        "    print(\"Test_Set\")\n",
        "    print(confusion_matrix(y_test, y_pred))\n",
        "    print(classification_report(y_test, y_pred))\n",
        "    print()\n",
        "    print(\"Train_Set\")\n",
        "    print(confusion_matrix(y_train, y_train_pred))\n",
        "    print(classification_report(y_train, y_train_pred))\n",
        "\n",
        "eval_metric(model, X_train, y_train, X_test, y_test)"
      ],
      "metadata": {
        "colab": {
          "base_uri": "https://localhost:8080/"
        },
        "id": "7hkvlgBNI4wJ",
        "outputId": "f284f761-066f-4cbd-dc3a-015b476f4b81"
      },
      "execution_count": 23,
      "outputs": [
        {
          "output_type": "stream",
          "name": "stdout",
          "text": [
            "Test_Set\n",
            "[[404  51]\n",
            " [ 47 446]]\n",
            "              precision    recall  f1-score   support\n",
            "\n",
            "       False       0.90      0.89      0.89       455\n",
            "        True       0.90      0.90      0.90       493\n",
            "\n",
            "    accuracy                           0.90       948\n",
            "   macro avg       0.90      0.90      0.90       948\n",
            "weighted avg       0.90      0.90      0.90       948\n",
            "\n",
            "\n",
            "Train_Set\n",
            "[[1855   60]\n",
            " [  74 1803]]\n",
            "              precision    recall  f1-score   support\n",
            "\n",
            "       False       0.96      0.97      0.97      1915\n",
            "        True       0.97      0.96      0.96      1877\n",
            "\n",
            "    accuracy                           0.96      3792\n",
            "   macro avg       0.96      0.96      0.96      3792\n",
            "weighted avg       0.96      0.96      0.96      3792\n",
            "\n"
          ]
        }
      ]
    },
    {
      "cell_type": "code",
      "source": [],
      "metadata": {
        "id": "EYpcXHdDJSQT"
      },
      "execution_count": 23,
      "outputs": []
    },
    {
      "cell_type": "code",
      "source": [
        "visualizer = ClassPredictionError(model)\n",
        "# Fit the training data to the visualizer\n",
        "visualizer.fit(X_train, y_train)\n",
        "# Evaluate the model on the test data\n",
        "visualizer.score(X_test, y_test)\n",
        "# Draw visualization\n",
        "visualizer.poof();"
      ],
      "metadata": {
        "colab": {
          "base_uri": "https://localhost:8080/",
          "height": 606
        },
        "id": "pERd7nF3JST6",
        "outputId": "a443c274-e99c-42ac-d9dd-0b1cbdb9c645"
      },
      "execution_count": 24,
      "outputs": [
        {
          "output_type": "stream",
          "name": "stderr",
          "text": [
            "/usr/local/lib/python3.10/dist-packages/sklearn/base.py:439: UserWarning: X does not have valid feature names, but GradientBoostingClassifier was fitted with feature names\n",
            "  warnings.warn(\n"
          ]
        },
        {
          "output_type": "display_data",
          "data": {
            "text/plain": [
              "<Figure size 800x550 with 1 Axes>"
            ],
            "image/png": "[encoded data removed]"
          },
          "metadata": {}
        }
      ]
    },
    {
      "cell_type": "code",
      "source": [
        "RocCurveDisplay.from_estimator(model, X_test, y_test);"
      ],
      "metadata": {
        "colab": {
          "base_uri": "https://localhost:8080/",
          "height": 503
        },
        "id": "5ituQ17SJ_X1",
        "outputId": "4ea26440-09ca-4fde-97e1-b86d550212f1"
      },
      "execution_count": 25,
      "outputs": [
        {
          "output_type": "display_data",
          "data": {
            "text/plain": [
              "<Figure size 800x550 with 1 Axes>"
            ],
            "image/png": "[encoded data removed]"
          },
          "metadata": {}
        }
      ]
    },
    {
      "cell_type": "code",
      "source": [
        "#!pip install streamlit"
      ],
      "metadata": {
        "id": "qYEo7OPPiV2D",
        "colab": {
          "base_uri": "https://localhost:8080/"
        },
        "outputId": "56ef5f29-abb0-4840-f120-db49ba64feb3"
      },
      "execution_count": 30,
      "outputs": [
        {
          "output_type": "stream",
          "name": "stdout",
          "text": [
            "Collecting streamlit\n",
            "  Downloading streamlit-1.27.1-py2.py3-none-any.whl (7.5 MB)\n",
            "\u001b[2K     \u001b[90m━━━━━━━━━━━━━━━━━━━━━━━━━━━━━━━━━━━━━━━━\u001b[0m \u001b[32m7.5/7.5 MB\u001b[0m \u001b[31m19.7 MB/s\u001b[0m eta \u001b[36m0:00:00\u001b[0m\n",
            "\u001b[?25hRequirement already satisfied: altair<6,>=4.0 in /usr/local/lib/python3.10/dist-packages (from streamlit) (4.2.2)\n",
            "Requirement already satisfied: blinker<2,>=1.0.0 in /usr/lib/python3/dist-packages (from streamlit) (1.4)\n",
            "Requirement already satisfied: cachetools<6,>=4.0 in /usr/local/lib/python3.10/dist-packages (from streamlit) (5.3.1)\n",
            "Requirement already satisfied: click<9,>=7.0 in /usr/local/lib/python3.10/dist-packages (from streamlit) (8.1.7)\n",
            "Requirement already satisfied: importlib-metadata<7,>=1.4 in /usr/local/lib/python3.10/dist-packages (from streamlit) (6.8.0)\n",
            "Requirement already satisfied: numpy<2,>=1.19.3 in /usr/local/lib/python3.10/dist-packages (from streamlit) (1.23.5)\n",
            "Requirement already satisfied: packaging<24,>=16.8 in /usr/local/lib/python3.10/dist-packages (from streamlit) (23.1)\n",
            "Requirement already satisfied: pandas<3,>=1.3.0 in /usr/local/lib/python3.10/dist-packages (from streamlit) (1.5.3)\n",
            "Requirement already satisfied: pillow<11,>=7.1.0 in /usr/local/lib/python3.10/dist-packages (from streamlit) (9.4.0)\n",
            "Requirement already satisfied: protobuf<5,>=3.20 in /usr/local/lib/python3.10/dist-packages (from streamlit) (3.20.3)\n",
            "Requirement already satisfied: pyarrow>=6.0 in /usr/local/lib/python3.10/dist-packages (from streamlit) (9.0.0)\n",
            "Requirement already satisfied: python-dateutil<3,>=2.7.3 in /usr/local/lib/python3.10/dist-packages (from streamlit) (2.8.2)\n",
            "Requirement already satisfied: requests<3,>=2.27 in /usr/local/lib/python3.10/dist-packages (from streamlit) (2.31.0)\n",
            "Requirement already satisfied: rich<14,>=10.14.0 in /usr/local/lib/python3.10/dist-packages (from streamlit) (13.5.2)\n",
            "Requirement already satisfied: tenacity<9,>=8.1.0 in /usr/local/lib/python3.10/dist-packages (from streamlit) (8.2.3)\n",
            "Requirement already satisfied: toml<2,>=0.10.1 in /usr/local/lib/python3.10/dist-packages (from streamlit) (0.10.2)\n",
            "Requirement already satisfied: typing-extensions<5,>=4.1.0 in /usr/local/lib/python3.10/dist-packages (from streamlit) (4.5.0)\n",
            "Requirement already satisfied: tzlocal<6,>=1.1 in /usr/local/lib/python3.10/dist-packages (from streamlit) (5.0.1)\n",
            "Collecting validators<1,>=0.2 (from streamlit)\n",
            "  Downloading validators-0.22.0-py3-none-any.whl (26 kB)\n",
            "Collecting gitpython!=3.1.19,<4,>=3.0.7 (from streamlit)\n",
            "  Downloading GitPython-3.1.37-py3-none-any.whl (190 kB)\n",
            "\u001b[2K     \u001b[90m━━━━━━━━━━━━━━━━━━━━━━━━━━━━━━━━━━━━━━━\u001b[0m \u001b[32m190.0/190.0 kB\u001b[0m \u001b[31m9.9 MB/s\u001b[0m eta \u001b[36m0:00:00\u001b[0m\n",
            "\u001b[?25hCollecting pydeck<1,>=0.8.0b4 (from streamlit)\n",
            "  Downloading pydeck-0.8.1b0-py2.py3-none-any.whl (4.8 MB)\n",
            "\u001b[2K     \u001b[90m━━━━━━━━━━━━━━━━━━━━━━━━━━━━━━━━━━━━━━━━\u001b[0m \u001b[32m4.8/4.8 MB\u001b[0m \u001b[31m38.0 MB/s\u001b[0m eta \u001b[36m0:00:00\u001b[0m\n",
            "\u001b[?25hRequirement already satisfied: tornado<7,>=6.0.3 in /usr/local/lib/python3.10/dist-packages (from streamlit) (6.3.2)\n",
            "Collecting watchdog>=2.1.5 (from streamlit)\n",
            "  Downloading watchdog-3.0.0-py3-none-manylinux2014_x86_64.whl (82 kB)\n",
            "\u001b[2K     \u001b[90m━━━━━━━━━━━━━━━━━━━━━━━━━━━━━━━━━━━━━━━━\u001b[0m \u001b[32m82.1/82.1 kB\u001b[0m \u001b[31m10.0 MB/s\u001b[0m eta \u001b[36m0:00:00\u001b[0m\n",
            "\u001b[?25hRequirement already satisfied: entrypoints in /usr/local/lib/python3.10/dist-packages (from altair<6,>=4.0->streamlit) (0.4)\n",
            "Requirement already satisfied: jinja2 in /usr/local/lib/python3.10/dist-packages (from altair<6,>=4.0->streamlit) (3.1.2)\n",
            "Requirement already satisfied: jsonschema>=3.0 in /usr/local/lib/python3.10/dist-packages (from altair<6,>=4.0->streamlit) (4.19.0)\n",
            "Requirement already satisfied: toolz in /usr/local/lib/python3.10/dist-packages (from altair<6,>=4.0->streamlit) (0.12.0)\n",
            "Collecting gitdb<5,>=4.0.1 (from gitpython!=3.1.19,<4,>=3.0.7->streamlit)\n",
            "  Downloading gitdb-4.0.10-py3-none-any.whl (62 kB)\n",
            "\u001b[2K     \u001b[90m━━━━━━━━━━━━━━━━━━━━━━━━━━━━━━━━━━━━━━━━\u001b[0m \u001b[32m62.7/62.7 kB\u001b[0m \u001b[31m7.4 MB/s\u001b[0m eta \u001b[36m0:00:00\u001b[0m\n",
            "\u001b[?25hRequirement already satisfied: zipp>=0.5 in /usr/local/lib/python3.10/dist-packages (from importlib-metadata<7,>=1.4->streamlit) (3.16.2)\n",
            "Requirement already satisfied: pytz>=2020.1 in /usr/local/lib/python3.10/dist-packages (from pandas<3,>=1.3.0->streamlit) (2023.3.post1)\n",
            "Requirement already satisfied: six>=1.5 in /usr/local/lib/python3.10/dist-packages (from python-dateutil<3,>=2.7.3->streamlit) (1.16.0)\n",
            "Requirement already satisfied: charset-normalizer<4,>=2 in /usr/local/lib/python3.10/dist-packages (from requests<3,>=2.27->streamlit) (3.2.0)\n",
            "Requirement already satisfied: idna<4,>=2.5 in /usr/local/lib/python3.10/dist-packages (from requests<3,>=2.27->streamlit) (3.4)\n",
            "Requirement already satisfied: urllib3<3,>=1.21.1 in /usr/local/lib/python3.10/dist-packages (from requests<3,>=2.27->streamlit) (2.0.4)\n",
            "Requirement already satisfied: certifi>=2017.4.17 in /usr/local/lib/python3.10/dist-packages (from requests<3,>=2.27->streamlit) (2023.7.22)\n",
            "Requirement already satisfied: markdown-it-py>=2.2.0 in /usr/local/lib/python3.10/dist-packages (from rich<14,>=10.14.0->streamlit) (3.0.0)\n",
            "Requirement already satisfied: pygments<3.0.0,>=2.13.0 in /usr/local/lib/python3.10/dist-packages (from rich<14,>=10.14.0->streamlit) (2.16.1)\n",
            "Collecting smmap<6,>=3.0.1 (from gitdb<5,>=4.0.1->gitpython!=3.1.19,<4,>=3.0.7->streamlit)\n",
            "  Downloading smmap-5.0.1-py3-none-any.whl (24 kB)\n",
            "Requirement already satisfied: MarkupSafe>=2.0 in /usr/local/lib/python3.10/dist-packages (from jinja2->altair<6,>=4.0->streamlit) (2.1.3)\n",
            "Requirement already satisfied: attrs>=22.2.0 in /usr/local/lib/python3.10/dist-packages (from jsonschema>=3.0->altair<6,>=4.0->streamlit) (23.1.0)\n",
            "Requirement already satisfied: jsonschema-specifications>=2023.03.6 in /usr/local/lib/python3.10/dist-packages (from jsonschema>=3.0->altair<6,>=4.0->streamlit) (2023.7.1)\n",
            "Requirement already satisfied: referencing>=0.28.4 in /usr/local/lib/python3.10/dist-packages (from jsonschema>=3.0->altair<6,>=4.0->streamlit) (0.30.2)\n",
            "Requirement already satisfied: rpds-py>=0.7.1 in /usr/local/lib/python3.10/dist-packages (from jsonschema>=3.0->altair<6,>=4.0->streamlit) (0.10.2)\n",
            "Requirement already satisfied: mdurl~=0.1 in /usr/local/lib/python3.10/dist-packages (from markdown-it-py>=2.2.0->rich<14,>=10.14.0->streamlit) (0.1.2)\n",
            "Installing collected packages: watchdog, validators, smmap, pydeck, gitdb, gitpython, streamlit\n",
            "Successfully installed gitdb-4.0.10 gitpython-3.1.37 pydeck-0.8.1b0 smmap-5.0.1 streamlit-1.27.1 validators-0.22.0 watchdog-3.0.0\n"
          ]
        }
      ]
    },
    {
      "cell_type": "code",
      "source": [
        "#!pip install streamlit\n",
        "#!pip install ipython\n",
        "#!pip install openpyxl\n",
        "\n",
        "import streamlit as st\n",
        "import pandas as pd\n",
        "from sklearn.ensemble import GradientBoostingClassifier\n",
        "from PIL import Image\n",
        "import shap\n",
        "from streamlit_shap import st_shap\n",
        "# Load your trained model\n",
        "#model = GradientBoostingClassifier(n_estimators=100, learning_rate=0.1, max_depth=5,\n",
        "                                   #min_samples_leaf=7, min_samples_split=2, random_state=42)\n",
        "# Create a SHAP explainer for your model\n",
        "#explainer = shap.Explainer(model)\n",
        "#explainer = shap.Explainer(model, user_input)\n",
        "\n",
        "# Streamlit app\n",
        "# Main title with yellow highlighting\n",
        "st.markdown(\"<h1 style='text-align: center; color: yellow;'>Churn Prediction App</h1>\", unsafe_allow_html=True)\n",
        "\n",
        "st.markdown(\"<h1 style='text-align: right;'> Enter Features</h1>\", unsafe_allow_html=True)\n",
        "\n",
        "col1, col2 = st.columns([1, 1])\n",
        "# Display the image in the left column\n",
        "with col1:\n",
        "    # Open the image using PIL\n",
        "    image = Image.open(\"C:/Users/evliy/OneDrive/Desktop/Internship/logo.jpg\")\n",
        "    # Display the image using Streamlit\n",
        "    st.image(image, width=320)\n",
        "\n",
        "# Display the \"Enter Features\" title and text input elements in the right column\n",
        "with col2:\n",
        "    total_account = st.text_input(\"Total Account Count\", \"\")\n",
        "    total_products = st.text_input(\"Total Product Count\", \"\")\n",
        "    total_income = st.text_input(\"Total Income\", \"\")\n",
        "    total_profit = st.text_input(\"Total Profit\", \"\")\n",
        "    active_days = st.text_input(\"Active Days\", \"\")\n",
        "\n",
        "    if st.button(\"Predict Churn\"):\n",
        "        # Create a DataFrame from user inputs\n",
        "        user_input = pd.DataFrame({'Total Account Count': [total_account],\n",
        "                                   'Total Product Count': [total_products],\n",
        "                                   'Total Income': [total_income],\n",
        "                                   'Total Profit': [total_profit],\n",
        "                                   'Active Days': [active_days]})\n",
        "\n",
        "        # Convert input values to numeric (assuming they are numeric features)\n",
        "        user_input = user_input.apply(pd.to_numeric, errors='coerce')\n",
        "\n",
        "        # Validate that 'Total Account' and 'Active days' are greater than 0\n",
        "        if (user_input['Total Account Count'].astype(float) <= 0).any() or (user_input['Active Days'].astype(float) <= 0).any():\n",
        "            st.error(\"Total Account and Active days must be greater than 0.\")\n",
        "        else:\n",
        "            prediction = model.predict(user_input)\n",
        "            explainer = shap.TreeExplainer(model)\n",
        "            shap_values = explainer.shap_values(user_input)\n",
        "            if prediction[0] == True:\n",
        "                st.markdown(\"<span style='background-color:red; color:black; font-size:20px;'>Seller is predicted to churn</span>\", unsafe_allow_html=True)\n",
        "                st.subheader(\"Decision SHAP Plot Shows Importance of Features\")\n",
        "                if len(shap_values) > 0:\n",
        "                    st_shap(shap.decision_plot(explainer.expected_value, shap_values[0,:], user_input.iloc[0,:], link='logit'), height=300, width=600)\n",
        "                else:\n",
        "                    st.warning(\"SHAP values for Class True are not available.\")\n",
        "            else:\n",
        "                st.markdown(\"<span style='background-color:green; color:black; font-size:20px;'>Seller is predicted not to churn</span>\",unsafe_allow_html=True)\n",
        "                st.subheader(\"Decision SHAP Plot Shows Importance of Features\")\n",
        "                if len(shap_values) > 0:\n",
        "                    st_shap(shap.decision_plot(explainer.expected_value, shap_values[0,:], user_input.iloc[0,:], link='logit'), height=300, width=600)\n",
        "                else:\n",
        "                    st.warning(\"SHAP values for Class False are not available.\")\n",
        "\n",
        "# Show two sample values from your dataset, one with Churned=True and one with Churned=False\n",
        "st.subheader(\"Selected Sample Rows\")\n",
        "selected_row_1 = df.iloc[2459]\n",
        "selected_row_2 = df.iloc[6844]\n",
        "# Display the selected rows horizontally\n",
        "st.dataframe([selected_row_1, selected_row_2])\n",
        "\n",
        "# Add a section to allow users to upload an Excel file\n",
        "st.subheader(\"Upload Excel File for Batch Predictions\")\n",
        "uploaded_file = st.file_uploader(\"Upload Excel File (with 5 features)\", type=[\"xlsx\", \"xls\"])\n",
        "\n",
        "if uploaded_file is not None:\n",
        "    # Read the uploaded Excel file into a DataFrame\n",
        "    user_data = pd.read_excel(uploaded_file)\n",
        "\n",
        "    # Ensure the DataFrame has the expected columns (Total Income, Total Profit, Active days, Total Account, Total Products)\n",
        "    expected_columns = ['Total Account Count', 'Total Product Count', 'Total Income', 'Total Profit', 'Active Days']\n",
        "    if set(expected_columns).issubset(user_data.columns):\n",
        "        # Validate that 'Total Account' and 'Active days' are greater than 0\n",
        "        if (user_data['Total Account Count'].astype(float) <= 0).any() or (user_data['Active Days'].astype(float) <= 0).any():\n",
        "            st.error(\"Total Account and Active days must be greater than 0 in the uploaded file.\")\n",
        "        else:\n",
        "            # Make predictions using your model\n",
        "            predictions = model.predict(user_data)\n",
        "\n",
        "            # Create a new DataFrame with predictions\n",
        "            predictions_df = pd.DataFrame({'Predictions': predictions})\n",
        "\n",
        "            # Combine the input data and predictions\n",
        "            result_df = pd.concat([user_data, predictions_df], axis=1)\n",
        "\n",
        "            # Provide a download link for the predictions as an Excel file\n",
        "            st.subheader(\"Predictions\")\n",
        "            st.write(result_df)\n",
        "            st.write(\"Download Predictions as Excel:\")\n",
        "            st.button(\"Download Predictions\", on_click=download_predictions, args=(result_df,))\n",
        "    else:\n",
        "        st.error(\"Please upload an Excel file with the correct columns: Total Account Count, Total Product Count, Total Income, Total Profit, Active Days\")\n",
        "\n",
        "# Function to download predictions as an Excel file\n",
        "def download_predictions(result_df):\n",
        "    result_df.to_excel(\"churn_predictions.xlsx\", index=False)\n",
        "    st.success(\"Predictions downloaded as 'churn_predictions.xlsx'\")\n"
      ],
      "metadata": {
        "id": "LjgfyJQlJ_co",
        "colab": {
          "base_uri": "https://localhost:8080/"
        },
        "outputId": "6aca0006-b355-4fa0-ef34-cef5f9a674ba"
      },
      "execution_count": 31,
      "outputs": [
        {
          "output_type": "stream",
          "name": "stderr",
          "text": [
            "2023-09-30 19:05:06.661 \n",
            "  \u001b[33m\u001b[1mWarning:\u001b[0m to view this Streamlit app on a browser, run it with the following\n",
            "  command:\n",
            "\n",
            "    streamlit run /usr/local/lib/python3.10/dist-packages/colab_kernel_launcher.py [ARGUMENTS]\n"
          ]
        }
      ]
    },
    {
      "cell_type": "code",
      "source": [
        "#!pip install shap"
      ],
      "metadata": {
        "colab": {
          "base_uri": "https://localhost:8080/"
        },
        "id": "VSzC7W3afUTV",
        "outputId": "e00af923-e93c-4c0d-9bdc-28bb7d69cb4e"
      },
      "execution_count": 33,
      "outputs": [
        {
          "output_type": "stream",
          "name": "stdout",
          "text": [
            "Collecting shap\n",
            "  Downloading shap-0.42.1-cp310-cp310-manylinux_2_12_x86_64.manylinux2010_x86_64.manylinux_2_17_x86_64.manylinux2014_x86_64.whl (547 kB)\n",
            "\u001b[2K     \u001b[90m━━━━━━━━━━━━━━━━━━━━━━━━━━━━━━━━━━━━━━━\u001b[0m \u001b[32m547.9/547.9 kB\u001b[0m \u001b[31m6.7 MB/s\u001b[0m eta \u001b[36m0:00:00\u001b[0m\n",
            "\u001b[?25hRequirement already satisfied: numpy in /usr/local/lib/python3.10/dist-packages (from shap) (1.23.5)\n",
            "Requirement already satisfied: scipy in /usr/local/lib/python3.10/dist-packages (from shap) (1.11.2)\n",
            "Requirement already satisfied: scikit-learn in /usr/local/lib/python3.10/dist-packages (from shap) (1.2.2)\n",
            "Requirement already satisfied: pandas in /usr/local/lib/python3.10/dist-packages (from shap) (1.5.3)\n",
            "Requirement already satisfied: tqdm>=4.27.0 in /usr/local/lib/python3.10/dist-packages (from shap) (4.66.1)\n",
            "Requirement already satisfied: packaging>20.9 in /usr/local/lib/python3.10/dist-packages (from shap) (23.1)\n",
            "Collecting slicer==0.0.7 (from shap)\n",
            "  Downloading slicer-0.0.7-py3-none-any.whl (14 kB)\n",
            "Requirement already satisfied: numba in /usr/local/lib/python3.10/dist-packages (from shap) (0.56.4)\n",
            "Requirement already satisfied: cloudpickle in /usr/local/lib/python3.10/dist-packages (from shap) (2.2.1)\n",
            "Requirement already satisfied: llvmlite<0.40,>=0.39.0dev0 in /usr/local/lib/python3.10/dist-packages (from numba->shap) (0.39.1)\n",
            "Requirement already satisfied: setuptools in /usr/local/lib/python3.10/dist-packages (from numba->shap) (67.7.2)\n",
            "Requirement already satisfied: python-dateutil>=2.8.1 in /usr/local/lib/python3.10/dist-packages (from pandas->shap) (2.8.2)\n",
            "Requirement already satisfied: pytz>=2020.1 in /usr/local/lib/python3.10/dist-packages (from pandas->shap) (2023.3.post1)\n",
            "Requirement already satisfied: joblib>=1.1.1 in /usr/local/lib/python3.10/dist-packages (from scikit-learn->shap) (1.3.2)\n",
            "Requirement already satisfied: threadpoolctl>=2.0.0 in /usr/local/lib/python3.10/dist-packages (from scikit-learn->shap) (3.2.0)\n",
            "Requirement already satisfied: six>=1.5 in /usr/local/lib/python3.10/dist-packages (from python-dateutil>=2.8.1->pandas->shap) (1.16.0)\n",
            "Installing collected packages: slicer, shap\n",
            "Successfully installed shap-0.42.1 slicer-0.0.7\n"
          ]
        }
      ]
    },
    {
      "cell_type": "code",
      "source": [],
      "metadata": {
        "id": "3ltU0XtSibMC"
      },
      "execution_count": null,
      "outputs": []
    },
    {
      "cell_type": "code",
      "source": [],
      "metadata": {
        "id": "LEdHC6BLfcJS"
      },
      "execution_count": null,
      "outputs": []
    },
    {
      "cell_type": "code",
      "source": [],
      "metadata": {
        "id": "mAjr9vFwfyhQ"
      },
      "execution_count": null,
      "outputs": []
    }
  ]
}